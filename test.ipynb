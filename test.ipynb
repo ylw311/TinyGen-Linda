{
 "cells": [
  {
   "cell_type": "markdown",
   "metadata": {},
   "source": [
    "This notebook includes code snippets for debugging specifically I was dealing with connection issues so tested it quickly here before I modified my codebase."
   ]
  },
  {
   "cell_type": "code",
   "execution_count": 1,
   "metadata": {},
   "outputs": [],
   "source": [
    "# Import required libraries\n",
    "from supabase import create_client, Client\n",
    "import os\n",
    "from dotenv import load_dotenv\n",
    "\n",
    "# Load environment variables (Supabase URL and API Key)\n",
    "load_dotenv()\n",
    "\n",
    "SUPABASE_URL = os.getenv('SUPABASE_URL')\n",
    "SUPABASE_KEY = os.getenv('SUPABASE_ANON_KEY')\n",
    "\n",
    "# Check if credentials are loaded correctly\n",
    "if not SUPABASE_URL or not SUPABASE_KEY:\n",
    "    raise ValueError(\"Supabase credentials are not set. Please set SUPABASE_URL and SUPABASE_KEY environment variables.\")\n",
    "\n",
    "# Initialize Supabase client\n",
    "supabase: Client = create_client(SUPABASE_URL, SUPABASE_KEY)\n",
    "\n",
    "# Function to test Supabase connection\n",
    "def check_supabase_connection():\n",
    "    try:\n",
    "        # Test by selecting data from any existing table (e.g., 'tinygen_requests')\n",
    "        response = supabase.table(\"tinygen_requests\").select(\"*\").limit(1).execute()\n",
    "        \n",
    "        # Check if the response contains data\n",
    "        if response.data:\n",
    "            print(\"Supabase connected successfully!\")\n",
    "            print(f\"Sample data: {response.data}\")\n",
    "        else:\n",
    "            print(\"Supabase connected, but no data returned or table is empty.\")\n",
    "    \n",
    "    except Exception as e:\n",
    "        print(f\"Error connecting to Supabase: {e}\")\n",
    "\n",
    "\n",
    "# Function to insert test data into the 'tinygen_requests' table\n",
    "def insert_test_data():\n",
    "    try:\n",
    "        # Create sample data to insert\n",
    "        data_to_store = {\n",
    "            'repo_url': 'https://github.com/sample/repo',\n",
    "            'prompt': 'Test Prompt',\n",
    "            'diff': 'Sample diff here...',\n",
    "            'summary': 'Test summary.'\n",
    "        }\n",
    "\n",
    "        # Insert the data into the 'tinygen_requests' table in Supabase\n",
    "        response = supabase.table(\"tinygen_requests\").insert(data_to_store).execute()\n",
    "\n",
    "        # Check if the insert was successful\n",
    "        if response.data:\n",
    "            print(\"Data successfully inserted into Supabase.\")\n",
    "            print(f\"Inserted data: {response.data}\")\n",
    "        else:\n",
    "            print(\"Insert failed. Response: \", response)\n",
    "\n",
    "    except Exception as e:\n",
    "        print(f\"Error inserting data into Supabase: {e}\")\n"
   ]
  },
  {
   "cell_type": "code",
   "execution_count": 2,
   "metadata": {},
   "outputs": [
    {
     "name": "stdout",
     "output_type": "stream",
     "text": [
      "Supabase connected successfully!\n",
      "Sample data: [{'id': 1, 'created_at': '2024-10-04T19:37:29.559427+00:00', 'repo_url': 'https://github.com/sample/repo', 'prompt': 'Test Prompt', 'diff': 'Sample diff here...', 'summary': 'Test summary.'}]\n"
     ]
    }
   ],
   "source": [
    "\n",
    "# Run the connection check\n",
    "check_supabase_connection()\n",
    "\n",
    "\n"
   ]
  },
  {
   "cell_type": "code",
   "execution_count": 3,
   "metadata": {},
   "outputs": [
    {
     "name": "stdout",
     "output_type": "stream",
     "text": [
      "Data successfully inserted into Supabase.\n",
      "Inserted data: [{'id': 16, 'created_at': '2024-10-05T17:04:10.142382+00:00', 'repo_url': 'https://github.com/sample/repo', 'prompt': 'Test Prompt', 'diff': 'Sample diff here...', 'summary': 'Test summary.'}]\n"
     ]
    }
   ],
   "source": [
    "# Insert test data\n",
    "insert_test_data()"
   ]
  }
 ],
 "metadata": {
  "kernelspec": {
   "display_name": "venv",
   "language": "python",
   "name": "python3"
  },
  "language_info": {
   "codemirror_mode": {
    "name": "ipython",
    "version": 3
   },
   "file_extension": ".py",
   "mimetype": "text/x-python",
   "name": "python",
   "nbconvert_exporter": "python",
   "pygments_lexer": "ipython3",
   "version": "3.11.5"
  }
 },
 "nbformat": 4,
 "nbformat_minor": 2
}
